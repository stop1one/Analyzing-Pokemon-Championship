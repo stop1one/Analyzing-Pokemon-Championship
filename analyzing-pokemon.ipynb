{
 "cells": [
  {
   "cell_type": "markdown",
   "id": "99acdf83",
   "metadata": {
    "papermill": {
     "duration": 0.007028,
     "end_time": "2022-11-24T15:49:47.635870",
     "exception": false,
     "start_time": "2022-11-24T15:49:47.628842",
     "status": "completed"
    },
    "tags": []
   },
   "source": [
    "# Analyzing Pokemon Championship\n",
    "\n",
    "### Read csv file from kaggle"
   ]
  },
  {
   "cell_type": "code",
   "execution_count": 1,
   "id": "419a6b9a",
   "metadata": {
    "execution": {
     "iopub.execute_input": "2022-11-24T15:49:47.654704Z",
     "iopub.status.busy": "2022-11-24T15:49:47.651692Z",
     "iopub.status.idle": "2022-11-24T15:49:47.864801Z",
     "shell.execute_reply": "2022-11-24T15:49:47.862375Z"
    },
    "papermill": {
     "duration": 0.226216,
     "end_time": "2022-11-24T15:49:47.867982",
     "exception": false,
     "start_time": "2022-11-24T15:49:47.641766",
     "status": "completed"
    },
    "tags": []
   },
   "outputs": [],
   "source": [
    "pokedex_original <- read.csv('/kaggle/input/complete-pokemon-dataset-updated-090420/pokedex_(Update_05.20).csv', header=T)\n",
    "pokemon_names <- read.table('/kaggle/input/pokemonnames/pokemon-names.txt', sep='\\t', quote=\"\", header=T)"
   ]
  },
  {
   "cell_type": "code",
   "execution_count": 2,
   "id": "e8aba974",
   "metadata": {
    "execution": {
     "iopub.execute_input": "2022-11-24T15:49:47.925250Z",
     "iopub.status.busy": "2022-11-24T15:49:47.880992Z",
     "iopub.status.idle": "2022-11-24T15:49:48.004608Z",
     "shell.execute_reply": "2022-11-24T15:49:48.002796Z"
    },
    "papermill": {
     "duration": 0.13421,
     "end_time": "2022-11-24T15:49:48.007411",
     "exception": false,
     "start_time": "2022-11-24T15:49:47.873201",
     "status": "completed"
    },
    "tags": []
   },
   "outputs": [
    {
     "data": {
      "text/html": [
       "<table class=\"dataframe\">\n",
       "<caption>A data.frame: 6 × 51</caption>\n",
       "<thead>\n",
       "\t<tr><th></th><th scope=col>X</th><th scope=col>pokedex_number</th><th scope=col>name</th><th scope=col>german_name</th><th scope=col>japanese_name</th><th scope=col>generation</th><th scope=col>status</th><th scope=col>species</th><th scope=col>type_number</th><th scope=col>type_1</th><th scope=col>⋯</th><th scope=col>against_ground</th><th scope=col>against_flying</th><th scope=col>against_psychic</th><th scope=col>against_bug</th><th scope=col>against_rock</th><th scope=col>against_ghost</th><th scope=col>against_dragon</th><th scope=col>against_dark</th><th scope=col>against_steel</th><th scope=col>against_fairy</th></tr>\n",
       "\t<tr><th></th><th scope=col>&lt;int&gt;</th><th scope=col>&lt;int&gt;</th><th scope=col>&lt;chr&gt;</th><th scope=col>&lt;chr&gt;</th><th scope=col>&lt;chr&gt;</th><th scope=col>&lt;int&gt;</th><th scope=col>&lt;chr&gt;</th><th scope=col>&lt;chr&gt;</th><th scope=col>&lt;int&gt;</th><th scope=col>&lt;chr&gt;</th><th scope=col>⋯</th><th scope=col>&lt;dbl&gt;</th><th scope=col>&lt;dbl&gt;</th><th scope=col>&lt;dbl&gt;</th><th scope=col>&lt;dbl&gt;</th><th scope=col>&lt;dbl&gt;</th><th scope=col>&lt;dbl&gt;</th><th scope=col>&lt;dbl&gt;</th><th scope=col>&lt;dbl&gt;</th><th scope=col>&lt;dbl&gt;</th><th scope=col>&lt;dbl&gt;</th></tr>\n",
       "</thead>\n",
       "<tbody>\n",
       "\t<tr><th scope=row>1</th><td>0</td><td>1</td><td>Bulbasaur    </td><td>Bisasam  </td><td>フシギダネ (Fushigidane)</td><td>1</td><td>Normal</td><td>Seed Pokémon  </td><td>2</td><td>Grass</td><td>⋯</td><td>1</td><td>2</td><td>2</td><td>1.0</td><td>1</td><td>1</td><td>1</td><td>1</td><td>1.0</td><td>0.5</td></tr>\n",
       "\t<tr><th scope=row>2</th><td>1</td><td>2</td><td>Ivysaur      </td><td>Bisaknosp</td><td>フシギソウ (Fushigisou) </td><td>1</td><td>Normal</td><td>Seed Pokémon  </td><td>2</td><td>Grass</td><td>⋯</td><td>1</td><td>2</td><td>2</td><td>1.0</td><td>1</td><td>1</td><td>1</td><td>1</td><td>1.0</td><td>0.5</td></tr>\n",
       "\t<tr><th scope=row>3</th><td>2</td><td>3</td><td>Venusaur     </td><td>Bisaflor </td><td>フシギバナ (Fushigibana)</td><td>1</td><td>Normal</td><td>Seed Pokémon  </td><td>2</td><td>Grass</td><td>⋯</td><td>1</td><td>2</td><td>2</td><td>1.0</td><td>1</td><td>1</td><td>1</td><td>1</td><td>1.0</td><td>0.5</td></tr>\n",
       "\t<tr><th scope=row>4</th><td>3</td><td>3</td><td>Mega Venusaur</td><td>Bisaflor </td><td>フシギバナ (Fushigibana)</td><td>1</td><td>Normal</td><td>Seed Pokémon  </td><td>2</td><td>Grass</td><td>⋯</td><td>1</td><td>2</td><td>2</td><td>1.0</td><td>1</td><td>1</td><td>1</td><td>1</td><td>1.0</td><td>0.5</td></tr>\n",
       "\t<tr><th scope=row>5</th><td>4</td><td>4</td><td>Charmander   </td><td>Glumanda </td><td>ヒトカゲ (Hitokage)     </td><td>1</td><td>Normal</td><td>Lizard Pokémon</td><td>1</td><td>Fire </td><td>⋯</td><td>2</td><td>1</td><td>1</td><td>0.5</td><td>2</td><td>1</td><td>1</td><td>1</td><td>0.5</td><td>0.5</td></tr>\n",
       "\t<tr><th scope=row>6</th><td>5</td><td>5</td><td>Charmeleon   </td><td>Glutexo  </td><td>リザード (Lizardo)      </td><td>1</td><td>Normal</td><td>Flame Pokémon </td><td>1</td><td>Fire </td><td>⋯</td><td>2</td><td>1</td><td>1</td><td>0.5</td><td>2</td><td>1</td><td>1</td><td>1</td><td>0.5</td><td>0.5</td></tr>\n",
       "</tbody>\n",
       "</table>\n"
      ],
      "text/latex": [
       "A data.frame: 6 × 51\n",
       "\\begin{tabular}{r|lllllllllllllllllllll}\n",
       "  & X & pokedex\\_number & name & german\\_name & japanese\\_name & generation & status & species & type\\_number & type\\_1 & ⋯ & against\\_ground & against\\_flying & against\\_psychic & against\\_bug & against\\_rock & against\\_ghost & against\\_dragon & against\\_dark & against\\_steel & against\\_fairy\\\\\n",
       "  & <int> & <int> & <chr> & <chr> & <chr> & <int> & <chr> & <chr> & <int> & <chr> & ⋯ & <dbl> & <dbl> & <dbl> & <dbl> & <dbl> & <dbl> & <dbl> & <dbl> & <dbl> & <dbl>\\\\\n",
       "\\hline\n",
       "\t1 & 0 & 1 & Bulbasaur     & Bisasam   & フシギダネ (Fushigidane) & 1 & Normal & Seed Pokémon   & 2 & Grass & ⋯ & 1 & 2 & 2 & 1.0 & 1 & 1 & 1 & 1 & 1.0 & 0.5\\\\\n",
       "\t2 & 1 & 2 & Ivysaur       & Bisaknosp & フシギソウ (Fushigisou)  & 1 & Normal & Seed Pokémon   & 2 & Grass & ⋯ & 1 & 2 & 2 & 1.0 & 1 & 1 & 1 & 1 & 1.0 & 0.5\\\\\n",
       "\t3 & 2 & 3 & Venusaur      & Bisaflor  & フシギバナ (Fushigibana) & 1 & Normal & Seed Pokémon   & 2 & Grass & ⋯ & 1 & 2 & 2 & 1.0 & 1 & 1 & 1 & 1 & 1.0 & 0.5\\\\\n",
       "\t4 & 3 & 3 & Mega Venusaur & Bisaflor  & フシギバナ (Fushigibana) & 1 & Normal & Seed Pokémon   & 2 & Grass & ⋯ & 1 & 2 & 2 & 1.0 & 1 & 1 & 1 & 1 & 1.0 & 0.5\\\\\n",
       "\t5 & 4 & 4 & Charmander    & Glumanda  & ヒトカゲ (Hitokage)      & 1 & Normal & Lizard Pokémon & 1 & Fire  & ⋯ & 2 & 1 & 1 & 0.5 & 2 & 1 & 1 & 1 & 0.5 & 0.5\\\\\n",
       "\t6 & 5 & 5 & Charmeleon    & Glutexo   & リザード (Lizardo)       & 1 & Normal & Flame Pokémon  & 1 & Fire  & ⋯ & 2 & 1 & 1 & 0.5 & 2 & 1 & 1 & 1 & 0.5 & 0.5\\\\\n",
       "\\end{tabular}\n"
      ],
      "text/markdown": [
       "\n",
       "A data.frame: 6 × 51\n",
       "\n",
       "| <!--/--> | X &lt;int&gt; | pokedex_number &lt;int&gt; | name &lt;chr&gt; | german_name &lt;chr&gt; | japanese_name &lt;chr&gt; | generation &lt;int&gt; | status &lt;chr&gt; | species &lt;chr&gt; | type_number &lt;int&gt; | type_1 &lt;chr&gt; | ⋯ ⋯ | against_ground &lt;dbl&gt; | against_flying &lt;dbl&gt; | against_psychic &lt;dbl&gt; | against_bug &lt;dbl&gt; | against_rock &lt;dbl&gt; | against_ghost &lt;dbl&gt; | against_dragon &lt;dbl&gt; | against_dark &lt;dbl&gt; | against_steel &lt;dbl&gt; | against_fairy &lt;dbl&gt; |\n",
       "|---|---|---|---|---|---|---|---|---|---|---|---|---|---|---|---|---|---|---|---|---|---|\n",
       "| 1 | 0 | 1 | Bulbasaur     | Bisasam   | フシギダネ (Fushigidane) | 1 | Normal | Seed Pokémon   | 2 | Grass | ⋯ | 1 | 2 | 2 | 1.0 | 1 | 1 | 1 | 1 | 1.0 | 0.5 |\n",
       "| 2 | 1 | 2 | Ivysaur       | Bisaknosp | フシギソウ (Fushigisou)  | 1 | Normal | Seed Pokémon   | 2 | Grass | ⋯ | 1 | 2 | 2 | 1.0 | 1 | 1 | 1 | 1 | 1.0 | 0.5 |\n",
       "| 3 | 2 | 3 | Venusaur      | Bisaflor  | フシギバナ (Fushigibana) | 1 | Normal | Seed Pokémon   | 2 | Grass | ⋯ | 1 | 2 | 2 | 1.0 | 1 | 1 | 1 | 1 | 1.0 | 0.5 |\n",
       "| 4 | 3 | 3 | Mega Venusaur | Bisaflor  | フシギバナ (Fushigibana) | 1 | Normal | Seed Pokémon   | 2 | Grass | ⋯ | 1 | 2 | 2 | 1.0 | 1 | 1 | 1 | 1 | 1.0 | 0.5 |\n",
       "| 5 | 4 | 4 | Charmander    | Glumanda  | ヒトカゲ (Hitokage)      | 1 | Normal | Lizard Pokémon | 1 | Fire  | ⋯ | 2 | 1 | 1 | 0.5 | 2 | 1 | 1 | 1 | 0.5 | 0.5 |\n",
       "| 6 | 5 | 5 | Charmeleon    | Glutexo   | リザード (Lizardo)       | 1 | Normal | Flame Pokémon  | 1 | Fire  | ⋯ | 2 | 1 | 1 | 0.5 | 2 | 1 | 1 | 1 | 0.5 | 0.5 |\n",
       "\n"
      ],
      "text/plain": [
       "  X pokedex_number name          german_name japanese_name           \n",
       "1 0 1              Bulbasaur     Bisasam     フシギダネ (Fushigidane)\n",
       "2 1 2              Ivysaur       Bisaknosp   フシギソウ (Fushigisou) \n",
       "3 2 3              Venusaur      Bisaflor    フシギバナ (Fushigibana)\n",
       "4 3 3              Mega Venusaur Bisaflor    フシギバナ (Fushigibana)\n",
       "5 4 4              Charmander    Glumanda    ヒトカゲ (Hitokage)     \n",
       "6 5 5              Charmeleon    Glutexo     リザード (Lizardo)      \n",
       "  generation status species        type_number type_1 ⋯ against_ground\n",
       "1 1          Normal Seed Pokémon   2           Grass  ⋯ 1             \n",
       "2 1          Normal Seed Pokémon   2           Grass  ⋯ 1             \n",
       "3 1          Normal Seed Pokémon   2           Grass  ⋯ 1             \n",
       "4 1          Normal Seed Pokémon   2           Grass  ⋯ 1             \n",
       "5 1          Normal Lizard Pokémon 1           Fire   ⋯ 2             \n",
       "6 1          Normal Flame Pokémon  1           Fire   ⋯ 2             \n",
       "  against_flying against_psychic against_bug against_rock against_ghost\n",
       "1 2              2               1.0         1            1            \n",
       "2 2              2               1.0         1            1            \n",
       "3 2              2               1.0         1            1            \n",
       "4 2              2               1.0         1            1            \n",
       "5 1              1               0.5         2            1            \n",
       "6 1              1               0.5         2            1            \n",
       "  against_dragon against_dark against_steel against_fairy\n",
       "1 1              1            1.0           0.5          \n",
       "2 1              1            1.0           0.5          \n",
       "3 1              1            1.0           0.5          \n",
       "4 1              1            1.0           0.5          \n",
       "5 1              1            0.5           0.5          \n",
       "6 1              1            0.5           0.5          "
      ]
     },
     "metadata": {},
     "output_type": "display_data"
    },
    {
     "data": {
      "text/html": [
       "<style>\n",
       ".list-inline {list-style: none; margin:0; padding: 0}\n",
       ".list-inline>li {display: inline-block}\n",
       ".list-inline>li:not(:last-child)::after {content: \"\\00b7\"; padding: 0 .5ex}\n",
       "</style>\n",
       "<ol class=list-inline><li>'X'</li><li>'pokedex_number'</li><li>'name'</li><li>'german_name'</li><li>'japanese_name'</li><li>'generation'</li><li>'status'</li><li>'species'</li><li>'type_number'</li><li>'type_1'</li><li>'type_2'</li><li>'height_m'</li><li>'weight_kg'</li><li>'abilities_number'</li><li>'ability_1'</li><li>'ability_2'</li><li>'ability_hidden'</li><li>'total_points'</li><li>'hp'</li><li>'attack'</li><li>'defense'</li><li>'sp_attack'</li><li>'sp_defense'</li><li>'speed'</li><li>'catch_rate'</li><li>'base_friendship'</li><li>'base_experience'</li><li>'growth_rate'</li><li>'egg_type_number'</li><li>'egg_type_1'</li><li>'egg_type_2'</li><li>'percentage_male'</li><li>'egg_cycles'</li><li>'against_normal'</li><li>'against_fire'</li><li>'against_water'</li><li>'against_electric'</li><li>'against_grass'</li><li>'against_ice'</li><li>'against_fight'</li><li>'against_poison'</li><li>'against_ground'</li><li>'against_flying'</li><li>'against_psychic'</li><li>'against_bug'</li><li>'against_rock'</li><li>'against_ghost'</li><li>'against_dragon'</li><li>'against_dark'</li><li>'against_steel'</li><li>'against_fairy'</li></ol>\n"
      ],
      "text/latex": [
       "\\begin{enumerate*}\n",
       "\\item 'X'\n",
       "\\item 'pokedex\\_number'\n",
       "\\item 'name'\n",
       "\\item 'german\\_name'\n",
       "\\item 'japanese\\_name'\n",
       "\\item 'generation'\n",
       "\\item 'status'\n",
       "\\item 'species'\n",
       "\\item 'type\\_number'\n",
       "\\item 'type\\_1'\n",
       "\\item 'type\\_2'\n",
       "\\item 'height\\_m'\n",
       "\\item 'weight\\_kg'\n",
       "\\item 'abilities\\_number'\n",
       "\\item 'ability\\_1'\n",
       "\\item 'ability\\_2'\n",
       "\\item 'ability\\_hidden'\n",
       "\\item 'total\\_points'\n",
       "\\item 'hp'\n",
       "\\item 'attack'\n",
       "\\item 'defense'\n",
       "\\item 'sp\\_attack'\n",
       "\\item 'sp\\_defense'\n",
       "\\item 'speed'\n",
       "\\item 'catch\\_rate'\n",
       "\\item 'base\\_friendship'\n",
       "\\item 'base\\_experience'\n",
       "\\item 'growth\\_rate'\n",
       "\\item 'egg\\_type\\_number'\n",
       "\\item 'egg\\_type\\_1'\n",
       "\\item 'egg\\_type\\_2'\n",
       "\\item 'percentage\\_male'\n",
       "\\item 'egg\\_cycles'\n",
       "\\item 'against\\_normal'\n",
       "\\item 'against\\_fire'\n",
       "\\item 'against\\_water'\n",
       "\\item 'against\\_electric'\n",
       "\\item 'against\\_grass'\n",
       "\\item 'against\\_ice'\n",
       "\\item 'against\\_fight'\n",
       "\\item 'against\\_poison'\n",
       "\\item 'against\\_ground'\n",
       "\\item 'against\\_flying'\n",
       "\\item 'against\\_psychic'\n",
       "\\item 'against\\_bug'\n",
       "\\item 'against\\_rock'\n",
       "\\item 'against\\_ghost'\n",
       "\\item 'against\\_dragon'\n",
       "\\item 'against\\_dark'\n",
       "\\item 'against\\_steel'\n",
       "\\item 'against\\_fairy'\n",
       "\\end{enumerate*}\n"
      ],
      "text/markdown": [
       "1. 'X'\n",
       "2. 'pokedex_number'\n",
       "3. 'name'\n",
       "4. 'german_name'\n",
       "5. 'japanese_name'\n",
       "6. 'generation'\n",
       "7. 'status'\n",
       "8. 'species'\n",
       "9. 'type_number'\n",
       "10. 'type_1'\n",
       "11. 'type_2'\n",
       "12. 'height_m'\n",
       "13. 'weight_kg'\n",
       "14. 'abilities_number'\n",
       "15. 'ability_1'\n",
       "16. 'ability_2'\n",
       "17. 'ability_hidden'\n",
       "18. 'total_points'\n",
       "19. 'hp'\n",
       "20. 'attack'\n",
       "21. 'defense'\n",
       "22. 'sp_attack'\n",
       "23. 'sp_defense'\n",
       "24. 'speed'\n",
       "25. 'catch_rate'\n",
       "26. 'base_friendship'\n",
       "27. 'base_experience'\n",
       "28. 'growth_rate'\n",
       "29. 'egg_type_number'\n",
       "30. 'egg_type_1'\n",
       "31. 'egg_type_2'\n",
       "32. 'percentage_male'\n",
       "33. 'egg_cycles'\n",
       "34. 'against_normal'\n",
       "35. 'against_fire'\n",
       "36. 'against_water'\n",
       "37. 'against_electric'\n",
       "38. 'against_grass'\n",
       "39. 'against_ice'\n",
       "40. 'against_fight'\n",
       "41. 'against_poison'\n",
       "42. 'against_ground'\n",
       "43. 'against_flying'\n",
       "44. 'against_psychic'\n",
       "45. 'against_bug'\n",
       "46. 'against_rock'\n",
       "47. 'against_ghost'\n",
       "48. 'against_dragon'\n",
       "49. 'against_dark'\n",
       "50. 'against_steel'\n",
       "51. 'against_fairy'\n",
       "\n",
       "\n"
      ],
      "text/plain": [
       " [1] \"X\"                \"pokedex_number\"   \"name\"             \"german_name\"     \n",
       " [5] \"japanese_name\"    \"generation\"       \"status\"           \"species\"         \n",
       " [9] \"type_number\"      \"type_1\"           \"type_2\"           \"height_m\"        \n",
       "[13] \"weight_kg\"        \"abilities_number\" \"ability_1\"        \"ability_2\"       \n",
       "[17] \"ability_hidden\"   \"total_points\"     \"hp\"               \"attack\"          \n",
       "[21] \"defense\"          \"sp_attack\"        \"sp_defense\"       \"speed\"           \n",
       "[25] \"catch_rate\"       \"base_friendship\"  \"base_experience\"  \"growth_rate\"     \n",
       "[29] \"egg_type_number\"  \"egg_type_1\"       \"egg_type_2\"       \"percentage_male\" \n",
       "[33] \"egg_cycles\"       \"against_normal\"   \"against_fire\"     \"against_water\"   \n",
       "[37] \"against_electric\" \"against_grass\"    \"against_ice\"      \"against_fight\"   \n",
       "[41] \"against_poison\"   \"against_ground\"   \"against_flying\"   \"against_psychic\" \n",
       "[45] \"against_bug\"      \"against_rock\"     \"against_ghost\"    \"against_dragon\"  \n",
       "[49] \"against_dark\"     \"against_steel\"    \"against_fairy\"   "
      ]
     },
     "metadata": {},
     "output_type": "display_data"
    },
    {
     "data": {
      "text/html": [
       "<table class=\"dataframe\">\n",
       "<caption>A data.frame: 6 × 9</caption>\n",
       "<thead>\n",
       "\t<tr><th></th><th scope=col>번호</th><th scope=col>한국어</th><th scope=col>일본어</th><th scope=col>영어</th><th scope=col>프랑스어</th><th scope=col>독일어</th><th scope=col>중국어</th><th scope=col>스페인어</th><th scope=col>이탈리아어</th></tr>\n",
       "\t<tr><th></th><th scope=col>&lt;int&gt;</th><th scope=col>&lt;chr&gt;</th><th scope=col>&lt;chr&gt;</th><th scope=col>&lt;chr&gt;</th><th scope=col>&lt;chr&gt;</th><th scope=col>&lt;chr&gt;</th><th scope=col>&lt;chr&gt;</th><th scope=col>&lt;chr&gt;</th><th scope=col>&lt;chr&gt;</th></tr>\n",
       "</thead>\n",
       "<tbody>\n",
       "\t<tr><th scope=row>1</th><td>1</td><td>이상해씨</td><td>フシギダネ</td><td>Bulbasaur </td><td>Bulbizarre</td><td>Bisasam  </td><td>妙蛙種子</td><td>Bulbasaur </td><td>Bulbasaur </td></tr>\n",
       "\t<tr><th scope=row>2</th><td>2</td><td>이상해풀</td><td>フシギソウ</td><td>Ivysaur   </td><td>Herbizarre</td><td>Bisaknosp</td><td>妙蛙草  </td><td>Ivysaur   </td><td>Ivysaur   </td></tr>\n",
       "\t<tr><th scope=row>3</th><td>3</td><td>이상해꽃</td><td>フシギバナ</td><td>Venusaur  </td><td>Florizarre</td><td>Bisaflor </td><td>妙蛙花  </td><td>Venusaur  </td><td>Venusaur  </td></tr>\n",
       "\t<tr><th scope=row>4</th><td>4</td><td>파이리  </td><td>ヒトカゲ  </td><td>Charmander</td><td>Salamèche </td><td>Glumanda </td><td>小火龍  </td><td>Charmander</td><td>Charmander</td></tr>\n",
       "\t<tr><th scope=row>5</th><td>5</td><td>리자드  </td><td>リザード  </td><td>Charmeleon</td><td>Reptincel </td><td>Glutexo  </td><td>火恐龍  </td><td>Charmeleon</td><td>Charmeleon</td></tr>\n",
       "\t<tr><th scope=row>6</th><td>6</td><td>리자몽  </td><td>リザードン</td><td>Charizard </td><td>Dracaufeu </td><td>Glurak   </td><td>噴火龍  </td><td>Charizard </td><td>Charizard </td></tr>\n",
       "</tbody>\n",
       "</table>\n"
      ],
      "text/latex": [
       "A data.frame: 6 × 9\n",
       "\\begin{tabular}{r|lllllllll}\n",
       "  & 번호 & 한국어 & 일본어 & 영어 & 프랑스어 & 독일어 & 중국어 & 스페인어 & 이탈리아어\\\\\n",
       "  & <int> & <chr> & <chr> & <chr> & <chr> & <chr> & <chr> & <chr> & <chr>\\\\\n",
       "\\hline\n",
       "\t1 & 1 & 이상해씨 & フシギダネ & Bulbasaur  & Bulbizarre & Bisasam   & 妙蛙種子 & Bulbasaur  & Bulbasaur \\\\\n",
       "\t2 & 2 & 이상해풀 & フシギソウ & Ivysaur    & Herbizarre & Bisaknosp & 妙蛙草   & Ivysaur    & Ivysaur   \\\\\n",
       "\t3 & 3 & 이상해꽃 & フシギバナ & Venusaur   & Florizarre & Bisaflor  & 妙蛙花   & Venusaur   & Venusaur  \\\\\n",
       "\t4 & 4 & 파이리   & ヒトカゲ   & Charmander & Salamèche  & Glumanda  & 小火龍   & Charmander & Charmander\\\\\n",
       "\t5 & 5 & 리자드   & リザード   & Charmeleon & Reptincel  & Glutexo   & 火恐龍   & Charmeleon & Charmeleon\\\\\n",
       "\t6 & 6 & 리자몽   & リザードン & Charizard  & Dracaufeu  & Glurak    & 噴火龍   & Charizard  & Charizard \\\\\n",
       "\\end{tabular}\n"
      ],
      "text/markdown": [
       "\n",
       "A data.frame: 6 × 9\n",
       "\n",
       "| <!--/--> | 번호 &lt;int&gt; | 한국어 &lt;chr&gt; | 일본어 &lt;chr&gt; | 영어 &lt;chr&gt; | 프랑스어 &lt;chr&gt; | 독일어 &lt;chr&gt; | 중국어 &lt;chr&gt; | 스페인어 &lt;chr&gt; | 이탈리아어 &lt;chr&gt; |\n",
       "|---|---|---|---|---|---|---|---|---|---|\n",
       "| 1 | 1 | 이상해씨 | フシギダネ | Bulbasaur  | Bulbizarre | Bisasam   | 妙蛙種子 | Bulbasaur  | Bulbasaur  |\n",
       "| 2 | 2 | 이상해풀 | フシギソウ | Ivysaur    | Herbizarre | Bisaknosp | 妙蛙草   | Ivysaur    | Ivysaur    |\n",
       "| 3 | 3 | 이상해꽃 | フシギバナ | Venusaur   | Florizarre | Bisaflor  | 妙蛙花   | Venusaur   | Venusaur   |\n",
       "| 4 | 4 | 파이리   | ヒトカゲ   | Charmander | Salamèche  | Glumanda  | 小火龍   | Charmander | Charmander |\n",
       "| 5 | 5 | 리자드   | リザード   | Charmeleon | Reptincel  | Glutexo   | 火恐龍   | Charmeleon | Charmeleon |\n",
       "| 6 | 6 | 리자몽   | リザードン | Charizard  | Dracaufeu  | Glurak    | 噴火龍   | Charizard  | Charizard  |\n",
       "\n"
      ],
      "text/plain": [
       "  번호 한국어   일본어     영어       프랑스어   독일어    중국어   스페인어  \n",
       "1 1    이상해씨 フシギダネ Bulbasaur  Bulbizarre Bisasam   妙蛙種子 Bulbasaur \n",
       "2 2    이상해풀 フシギソウ Ivysaur    Herbizarre Bisaknosp 妙蛙草   Ivysaur   \n",
       "3 3    이상해꽃 フシギバナ Venusaur   Florizarre Bisaflor  妙蛙花   Venusaur  \n",
       "4 4    파이리   ヒトカゲ   Charmander Salamèche  Glumanda  小火龍   Charmander\n",
       "5 5    리자드   リザード   Charmeleon Reptincel  Glutexo   火恐龍   Charmeleon\n",
       "6 6    리자몽   リザードン Charizard  Dracaufeu  Glurak    噴火龍   Charizard \n",
       "  이탈리아어\n",
       "1 Bulbasaur \n",
       "2 Ivysaur   \n",
       "3 Venusaur  \n",
       "4 Charmander\n",
       "5 Charmeleon\n",
       "6 Charizard "
      ]
     },
     "metadata": {},
     "output_type": "display_data"
    }
   ],
   "source": [
    "head(pokedex_original)\n",
    "names(pokedex_original)\n",
    "head(pokemon_names)"
   ]
  },
  {
   "cell_type": "markdown",
   "id": "2ba8044a",
   "metadata": {
    "papermill": {
     "duration": 0.006477,
     "end_time": "2022-11-24T15:49:48.021000",
     "exception": false,
     "start_time": "2022-11-24T15:49:48.014523",
     "status": "completed"
    },
    "tags": []
   },
   "source": [
    "### preprocessing"
   ]
  },
  {
   "cell_type": "code",
   "execution_count": 3,
   "id": "808a56a8",
   "metadata": {
    "execution": {
     "iopub.execute_input": "2022-11-24T15:49:48.037319Z",
     "iopub.status.busy": "2022-11-24T15:49:48.035821Z",
     "iopub.status.idle": "2022-11-24T15:49:48.267548Z",
     "shell.execute_reply": "2022-11-24T15:49:48.265237Z"
    },
    "papermill": {
     "duration": 0.242503,
     "end_time": "2022-11-24T15:49:48.270126",
     "exception": false,
     "start_time": "2022-11-24T15:49:48.027623",
     "status": "completed"
    },
    "tags": []
   },
   "outputs": [
    {
     "name": "stderr",
     "output_type": "stream",
     "text": [
      "\n",
      "Attaching package: ‘dplyr’\n",
      "\n",
      "\n",
      "The following objects are masked from ‘package:stats’:\n",
      "\n",
      "    filter, lag\n",
      "\n",
      "\n",
      "The following objects are masked from ‘package:base’:\n",
      "\n",
      "    intersect, setdiff, setequal, union\n",
      "\n",
      "\n",
      "\n",
      "Attaching package: ‘data.table’\n",
      "\n",
      "\n",
      "The following objects are masked from ‘package:dplyr’:\n",
      "\n",
      "    between, first, last\n",
      "\n",
      "\n"
     ]
    }
   ],
   "source": [
    "library(dplyr)\n",
    "library(stringr)\n",
    "library(data.table)"
   ]
  },
  {
   "cell_type": "code",
   "execution_count": 4,
   "id": "4581493b",
   "metadata": {
    "execution": {
     "iopub.execute_input": "2022-11-24T15:49:48.287538Z",
     "iopub.status.busy": "2022-11-24T15:49:48.285514Z",
     "iopub.status.idle": "2022-11-24T15:49:48.478791Z",
     "shell.execute_reply": "2022-11-24T15:49:48.476600Z"
    },
    "papermill": {
     "duration": 0.205001,
     "end_time": "2022-11-24T15:49:48.481640",
     "exception": false,
     "start_time": "2022-11-24T15:49:48.276639",
     "status": "completed"
    },
    "tags": []
   },
   "outputs": [
    {
     "data": {
      "text/html": [
       "<table class=\"dataframe\">\n",
       "<caption>A data.frame: 6 × 19</caption>\n",
       "<thead>\n",
       "\t<tr><th></th><th scope=col>pokedex_number</th><th scope=col>name</th><th scope=col>generation</th><th scope=col>status</th><th scope=col>type_number</th><th scope=col>type_1</th><th scope=col>type_2</th><th scope=col>height_m</th><th scope=col>weight_kg</th><th scope=col>total_points</th><th scope=col>hp</th><th scope=col>attack</th><th scope=col>defense</th><th scope=col>sp_attack</th><th scope=col>sp_defense</th><th scope=col>speed</th><th scope=col>catch_rate</th><th scope=col>growth_rate</th><th scope=col>percentage_male</th></tr>\n",
       "\t<tr><th></th><th scope=col>&lt;int&gt;</th><th scope=col>&lt;chr&gt;</th><th scope=col>&lt;int&gt;</th><th scope=col>&lt;chr&gt;</th><th scope=col>&lt;int&gt;</th><th scope=col>&lt;chr&gt;</th><th scope=col>&lt;chr&gt;</th><th scope=col>&lt;dbl&gt;</th><th scope=col>&lt;dbl&gt;</th><th scope=col>&lt;dbl&gt;</th><th scope=col>&lt;dbl&gt;</th><th scope=col>&lt;dbl&gt;</th><th scope=col>&lt;dbl&gt;</th><th scope=col>&lt;dbl&gt;</th><th scope=col>&lt;dbl&gt;</th><th scope=col>&lt;dbl&gt;</th><th scope=col>&lt;dbl&gt;</th><th scope=col>&lt;chr&gt;</th><th scope=col>&lt;dbl&gt;</th></tr>\n",
       "</thead>\n",
       "<tbody>\n",
       "\t<tr><th scope=row>1</th><td>1</td><td>Bulbasaur    </td><td>1</td><td>Normal</td><td>2</td><td>Grass</td><td>Poison</td><td>0.7</td><td>  6.9</td><td>318</td><td>45</td><td> 49</td><td> 49</td><td> 65</td><td> 65</td><td>45</td><td>45</td><td>Medium Slow</td><td>87.5</td></tr>\n",
       "\t<tr><th scope=row>2</th><td>2</td><td>Ivysaur      </td><td>1</td><td>Normal</td><td>2</td><td>Grass</td><td>Poison</td><td>1.0</td><td> 13.0</td><td>405</td><td>60</td><td> 62</td><td> 63</td><td> 80</td><td> 80</td><td>60</td><td>45</td><td>Medium Slow</td><td>87.5</td></tr>\n",
       "\t<tr><th scope=row>3</th><td>3</td><td>Venusaur     </td><td>1</td><td>Normal</td><td>2</td><td>Grass</td><td>Poison</td><td>2.0</td><td>100.0</td><td>525</td><td>80</td><td> 82</td><td> 83</td><td>100</td><td>100</td><td>80</td><td>45</td><td>Medium Slow</td><td>87.5</td></tr>\n",
       "\t<tr><th scope=row>4</th><td>3</td><td>Mega Venusaur</td><td>1</td><td>Normal</td><td>2</td><td>Grass</td><td>Poison</td><td>2.4</td><td>155.5</td><td>625</td><td>80</td><td>100</td><td>123</td><td>122</td><td>120</td><td>80</td><td>45</td><td>Medium Slow</td><td>87.5</td></tr>\n",
       "\t<tr><th scope=row>5</th><td>4</td><td>Charmander   </td><td>1</td><td>Normal</td><td>1</td><td>Fire </td><td>      </td><td>0.6</td><td>  8.5</td><td>309</td><td>39</td><td> 52</td><td> 43</td><td> 60</td><td> 50</td><td>65</td><td>45</td><td>Medium Slow</td><td>87.5</td></tr>\n",
       "\t<tr><th scope=row>6</th><td>5</td><td>Charmeleon   </td><td>1</td><td>Normal</td><td>1</td><td>Fire </td><td>      </td><td>1.1</td><td> 19.0</td><td>405</td><td>58</td><td> 64</td><td> 58</td><td> 80</td><td> 65</td><td>80</td><td>45</td><td>Medium Slow</td><td>87.5</td></tr>\n",
       "</tbody>\n",
       "</table>\n"
      ],
      "text/latex": [
       "A data.frame: 6 × 19\n",
       "\\begin{tabular}{r|lllllllllllllllllll}\n",
       "  & pokedex\\_number & name & generation & status & type\\_number & type\\_1 & type\\_2 & height\\_m & weight\\_kg & total\\_points & hp & attack & defense & sp\\_attack & sp\\_defense & speed & catch\\_rate & growth\\_rate & percentage\\_male\\\\\n",
       "  & <int> & <chr> & <int> & <chr> & <int> & <chr> & <chr> & <dbl> & <dbl> & <dbl> & <dbl> & <dbl> & <dbl> & <dbl> & <dbl> & <dbl> & <dbl> & <chr> & <dbl>\\\\\n",
       "\\hline\n",
       "\t1 & 1 & Bulbasaur     & 1 & Normal & 2 & Grass & Poison & 0.7 &   6.9 & 318 & 45 &  49 &  49 &  65 &  65 & 45 & 45 & Medium Slow & 87.5\\\\\n",
       "\t2 & 2 & Ivysaur       & 1 & Normal & 2 & Grass & Poison & 1.0 &  13.0 & 405 & 60 &  62 &  63 &  80 &  80 & 60 & 45 & Medium Slow & 87.5\\\\\n",
       "\t3 & 3 & Venusaur      & 1 & Normal & 2 & Grass & Poison & 2.0 & 100.0 & 525 & 80 &  82 &  83 & 100 & 100 & 80 & 45 & Medium Slow & 87.5\\\\\n",
       "\t4 & 3 & Mega Venusaur & 1 & Normal & 2 & Grass & Poison & 2.4 & 155.5 & 625 & 80 & 100 & 123 & 122 & 120 & 80 & 45 & Medium Slow & 87.5\\\\\n",
       "\t5 & 4 & Charmander    & 1 & Normal & 1 & Fire  &        & 0.6 &   8.5 & 309 & 39 &  52 &  43 &  60 &  50 & 65 & 45 & Medium Slow & 87.5\\\\\n",
       "\t6 & 5 & Charmeleon    & 1 & Normal & 1 & Fire  &        & 1.1 &  19.0 & 405 & 58 &  64 &  58 &  80 &  65 & 80 & 45 & Medium Slow & 87.5\\\\\n",
       "\\end{tabular}\n"
      ],
      "text/markdown": [
       "\n",
       "A data.frame: 6 × 19\n",
       "\n",
       "| <!--/--> | pokedex_number &lt;int&gt; | name &lt;chr&gt; | generation &lt;int&gt; | status &lt;chr&gt; | type_number &lt;int&gt; | type_1 &lt;chr&gt; | type_2 &lt;chr&gt; | height_m &lt;dbl&gt; | weight_kg &lt;dbl&gt; | total_points &lt;dbl&gt; | hp &lt;dbl&gt; | attack &lt;dbl&gt; | defense &lt;dbl&gt; | sp_attack &lt;dbl&gt; | sp_defense &lt;dbl&gt; | speed &lt;dbl&gt; | catch_rate &lt;dbl&gt; | growth_rate &lt;chr&gt; | percentage_male &lt;dbl&gt; |\n",
       "|---|---|---|---|---|---|---|---|---|---|---|---|---|---|---|---|---|---|---|---|\n",
       "| 1 | 1 | Bulbasaur     | 1 | Normal | 2 | Grass | Poison | 0.7 |   6.9 | 318 | 45 |  49 |  49 |  65 |  65 | 45 | 45 | Medium Slow | 87.5 |\n",
       "| 2 | 2 | Ivysaur       | 1 | Normal | 2 | Grass | Poison | 1.0 |  13.0 | 405 | 60 |  62 |  63 |  80 |  80 | 60 | 45 | Medium Slow | 87.5 |\n",
       "| 3 | 3 | Venusaur      | 1 | Normal | 2 | Grass | Poison | 2.0 | 100.0 | 525 | 80 |  82 |  83 | 100 | 100 | 80 | 45 | Medium Slow | 87.5 |\n",
       "| 4 | 3 | Mega Venusaur | 1 | Normal | 2 | Grass | Poison | 2.4 | 155.5 | 625 | 80 | 100 | 123 | 122 | 120 | 80 | 45 | Medium Slow | 87.5 |\n",
       "| 5 | 4 | Charmander    | 1 | Normal | 1 | Fire  | <!----> | 0.6 |   8.5 | 309 | 39 |  52 |  43 |  60 |  50 | 65 | 45 | Medium Slow | 87.5 |\n",
       "| 6 | 5 | Charmeleon    | 1 | Normal | 1 | Fire  | <!----> | 1.1 |  19.0 | 405 | 58 |  64 |  58 |  80 |  65 | 80 | 45 | Medium Slow | 87.5 |\n",
       "\n"
      ],
      "text/plain": [
       "  pokedex_number name          generation status type_number type_1 type_2\n",
       "1 1              Bulbasaur     1          Normal 2           Grass  Poison\n",
       "2 2              Ivysaur       1          Normal 2           Grass  Poison\n",
       "3 3              Venusaur      1          Normal 2           Grass  Poison\n",
       "4 3              Mega Venusaur 1          Normal 2           Grass  Poison\n",
       "5 4              Charmander    1          Normal 1           Fire         \n",
       "6 5              Charmeleon    1          Normal 1           Fire         \n",
       "  height_m weight_kg total_points hp attack defense sp_attack sp_defense speed\n",
       "1 0.7        6.9     318          45  49     49      65        65        45   \n",
       "2 1.0       13.0     405          60  62     63      80        80        60   \n",
       "3 2.0      100.0     525          80  82     83     100       100        80   \n",
       "4 2.4      155.5     625          80 100    123     122       120        80   \n",
       "5 0.6        8.5     309          39  52     43      60        50        65   \n",
       "6 1.1       19.0     405          58  64     58      80        65        80   \n",
       "  catch_rate growth_rate percentage_male\n",
       "1 45         Medium Slow 87.5           \n",
       "2 45         Medium Slow 87.5           \n",
       "3 45         Medium Slow 87.5           \n",
       "4 45         Medium Slow 87.5           \n",
       "5 45         Medium Slow 87.5           \n",
       "6 45         Medium Slow 87.5           "
      ]
     },
     "metadata": {},
     "output_type": "display_data"
    }
   ],
   "source": [
    "pokedex_selected <- pokedex_original %>% select(pokedex_number, name, generation, status, type_number, type_1, type_2, height_m, weight_kg, total_points, hp, attack, defense, sp_attack, sp_defense, speed, catch_rate, growth_rate, percentage_male)\n",
    "head(pokedex_selected)"
   ]
  },
  {
   "cell_type": "code",
   "execution_count": 5,
   "id": "07c473f2",
   "metadata": {
    "execution": {
     "iopub.execute_input": "2022-11-24T15:49:48.499673Z",
     "iopub.status.busy": "2022-11-24T15:49:48.497673Z",
     "iopub.status.idle": "2022-11-24T15:49:48.544253Z",
     "shell.execute_reply": "2022-11-24T15:49:48.542019Z"
    },
    "papermill": {
     "duration": 0.058634,
     "end_time": "2022-11-24T15:49:48.547013",
     "exception": false,
     "start_time": "2022-11-24T15:49:48.488379",
     "status": "completed"
    },
    "tags": []
   },
   "outputs": [],
   "source": [
    "pokedex <- pokedex_selected\n",
    "pokedex <- pokedex %>% filter(!str_detect(pokedex$name, \"Mega\"))\n",
    "pokedex <- pokedex %>% filter(!str_detect(pokedex$name, \"Eternamax\"))"
   ]
  },
  {
   "cell_type": "code",
   "execution_count": 6,
   "id": "0e9f0c6a",
   "metadata": {
    "execution": {
     "iopub.execute_input": "2022-11-24T15:49:48.565309Z",
     "iopub.status.busy": "2022-11-24T15:49:48.563524Z",
     "iopub.status.idle": "2022-11-24T15:49:48.647231Z",
     "shell.execute_reply": "2022-11-24T15:49:48.645129Z"
    },
    "papermill": {
     "duration": 0.095685,
     "end_time": "2022-11-24T15:49:48.649847",
     "exception": false,
     "start_time": "2022-11-24T15:49:48.554162",
     "status": "completed"
    },
    "tags": []
   },
   "outputs": [
    {
     "data": {
      "text/html": [
       "<table class=\"dataframe\">\n",
       "<caption>A data.frame: 6 × 20</caption>\n",
       "<thead>\n",
       "\t<tr><th></th><th scope=col>pokedex_number</th><th scope=col>eng_name</th><th scope=col>kor_name</th><th scope=col>generation</th><th scope=col>status</th><th scope=col>type_number</th><th scope=col>type_1</th><th scope=col>type_2</th><th scope=col>height_m</th><th scope=col>weight_kg</th><th scope=col>total_points</th><th scope=col>hp</th><th scope=col>attack</th><th scope=col>defense</th><th scope=col>sp_attack</th><th scope=col>sp_defense</th><th scope=col>speed</th><th scope=col>catch_rate</th><th scope=col>growth_rate</th><th scope=col>percentage_male</th></tr>\n",
       "\t<tr><th></th><th scope=col>&lt;int&gt;</th><th scope=col>&lt;chr&gt;</th><th scope=col>&lt;chr&gt;</th><th scope=col>&lt;int&gt;</th><th scope=col>&lt;chr&gt;</th><th scope=col>&lt;int&gt;</th><th scope=col>&lt;chr&gt;</th><th scope=col>&lt;chr&gt;</th><th scope=col>&lt;dbl&gt;</th><th scope=col>&lt;dbl&gt;</th><th scope=col>&lt;dbl&gt;</th><th scope=col>&lt;dbl&gt;</th><th scope=col>&lt;dbl&gt;</th><th scope=col>&lt;dbl&gt;</th><th scope=col>&lt;dbl&gt;</th><th scope=col>&lt;dbl&gt;</th><th scope=col>&lt;dbl&gt;</th><th scope=col>&lt;dbl&gt;</th><th scope=col>&lt;chr&gt;</th><th scope=col>&lt;dbl&gt;</th></tr>\n",
       "</thead>\n",
       "<tbody>\n",
       "\t<tr><th scope=row>1</th><td>1</td><td>Bulbasaur </td><td>이상해씨</td><td>1</td><td>Normal</td><td>2</td><td>Grass</td><td>Poison</td><td>0.7</td><td>  6.9</td><td>318</td><td>45</td><td>49</td><td>49</td><td> 65</td><td> 65</td><td> 45</td><td>45</td><td>Medium Slow</td><td>87.5</td></tr>\n",
       "\t<tr><th scope=row>2</th><td>2</td><td>Ivysaur   </td><td>이상해풀</td><td>1</td><td>Normal</td><td>2</td><td>Grass</td><td>Poison</td><td>1.0</td><td> 13.0</td><td>405</td><td>60</td><td>62</td><td>63</td><td> 80</td><td> 80</td><td> 60</td><td>45</td><td>Medium Slow</td><td>87.5</td></tr>\n",
       "\t<tr><th scope=row>3</th><td>3</td><td>Venusaur  </td><td>이상해꽃</td><td>1</td><td>Normal</td><td>2</td><td>Grass</td><td>Poison</td><td>2.0</td><td>100.0</td><td>525</td><td>80</td><td>82</td><td>83</td><td>100</td><td>100</td><td> 80</td><td>45</td><td>Medium Slow</td><td>87.5</td></tr>\n",
       "\t<tr><th scope=row>4</th><td>4</td><td>Charmander</td><td>파이리  </td><td>1</td><td>Normal</td><td>1</td><td>Fire </td><td>      </td><td>0.6</td><td>  8.5</td><td>309</td><td>39</td><td>52</td><td>43</td><td> 60</td><td> 50</td><td> 65</td><td>45</td><td>Medium Slow</td><td>87.5</td></tr>\n",
       "\t<tr><th scope=row>5</th><td>5</td><td>Charmeleon</td><td>리자드  </td><td>1</td><td>Normal</td><td>1</td><td>Fire </td><td>      </td><td>1.1</td><td> 19.0</td><td>405</td><td>58</td><td>64</td><td>58</td><td> 80</td><td> 65</td><td> 80</td><td>45</td><td>Medium Slow</td><td>87.5</td></tr>\n",
       "\t<tr><th scope=row>6</th><td>6</td><td>Charizard </td><td>리자몽  </td><td>1</td><td>Normal</td><td>2</td><td>Fire </td><td>Flying</td><td>1.7</td><td> 90.5</td><td>534</td><td>78</td><td>84</td><td>78</td><td>109</td><td> 85</td><td>100</td><td>45</td><td>Medium Slow</td><td>87.5</td></tr>\n",
       "</tbody>\n",
       "</table>\n"
      ],
      "text/latex": [
       "A data.frame: 6 × 20\n",
       "\\begin{tabular}{r|llllllllllllllllllll}\n",
       "  & pokedex\\_number & eng\\_name & kor\\_name & generation & status & type\\_number & type\\_1 & type\\_2 & height\\_m & weight\\_kg & total\\_points & hp & attack & defense & sp\\_attack & sp\\_defense & speed & catch\\_rate & growth\\_rate & percentage\\_male\\\\\n",
       "  & <int> & <chr> & <chr> & <int> & <chr> & <int> & <chr> & <chr> & <dbl> & <dbl> & <dbl> & <dbl> & <dbl> & <dbl> & <dbl> & <dbl> & <dbl> & <dbl> & <chr> & <dbl>\\\\\n",
       "\\hline\n",
       "\t1 & 1 & Bulbasaur  & 이상해씨 & 1 & Normal & 2 & Grass & Poison & 0.7 &   6.9 & 318 & 45 & 49 & 49 &  65 &  65 &  45 & 45 & Medium Slow & 87.5\\\\\n",
       "\t2 & 2 & Ivysaur    & 이상해풀 & 1 & Normal & 2 & Grass & Poison & 1.0 &  13.0 & 405 & 60 & 62 & 63 &  80 &  80 &  60 & 45 & Medium Slow & 87.5\\\\\n",
       "\t3 & 3 & Venusaur   & 이상해꽃 & 1 & Normal & 2 & Grass & Poison & 2.0 & 100.0 & 525 & 80 & 82 & 83 & 100 & 100 &  80 & 45 & Medium Slow & 87.5\\\\\n",
       "\t4 & 4 & Charmander & 파이리   & 1 & Normal & 1 & Fire  &        & 0.6 &   8.5 & 309 & 39 & 52 & 43 &  60 &  50 &  65 & 45 & Medium Slow & 87.5\\\\\n",
       "\t5 & 5 & Charmeleon & 리자드   & 1 & Normal & 1 & Fire  &        & 1.1 &  19.0 & 405 & 58 & 64 & 58 &  80 &  65 &  80 & 45 & Medium Slow & 87.5\\\\\n",
       "\t6 & 6 & Charizard  & 리자몽   & 1 & Normal & 2 & Fire  & Flying & 1.7 &  90.5 & 534 & 78 & 84 & 78 & 109 &  85 & 100 & 45 & Medium Slow & 87.5\\\\\n",
       "\\end{tabular}\n"
      ],
      "text/markdown": [
       "\n",
       "A data.frame: 6 × 20\n",
       "\n",
       "| <!--/--> | pokedex_number &lt;int&gt; | eng_name &lt;chr&gt; | kor_name &lt;chr&gt; | generation &lt;int&gt; | status &lt;chr&gt; | type_number &lt;int&gt; | type_1 &lt;chr&gt; | type_2 &lt;chr&gt; | height_m &lt;dbl&gt; | weight_kg &lt;dbl&gt; | total_points &lt;dbl&gt; | hp &lt;dbl&gt; | attack &lt;dbl&gt; | defense &lt;dbl&gt; | sp_attack &lt;dbl&gt; | sp_defense &lt;dbl&gt; | speed &lt;dbl&gt; | catch_rate &lt;dbl&gt; | growth_rate &lt;chr&gt; | percentage_male &lt;dbl&gt; |\n",
       "|---|---|---|---|---|---|---|---|---|---|---|---|---|---|---|---|---|---|---|---|---|\n",
       "| 1 | 1 | Bulbasaur  | 이상해씨 | 1 | Normal | 2 | Grass | Poison | 0.7 |   6.9 | 318 | 45 | 49 | 49 |  65 |  65 |  45 | 45 | Medium Slow | 87.5 |\n",
       "| 2 | 2 | Ivysaur    | 이상해풀 | 1 | Normal | 2 | Grass | Poison | 1.0 |  13.0 | 405 | 60 | 62 | 63 |  80 |  80 |  60 | 45 | Medium Slow | 87.5 |\n",
       "| 3 | 3 | Venusaur   | 이상해꽃 | 1 | Normal | 2 | Grass | Poison | 2.0 | 100.0 | 525 | 80 | 82 | 83 | 100 | 100 |  80 | 45 | Medium Slow | 87.5 |\n",
       "| 4 | 4 | Charmander | 파이리   | 1 | Normal | 1 | Fire  | <!----> | 0.6 |   8.5 | 309 | 39 | 52 | 43 |  60 |  50 |  65 | 45 | Medium Slow | 87.5 |\n",
       "| 5 | 5 | Charmeleon | 리자드   | 1 | Normal | 1 | Fire  | <!----> | 1.1 |  19.0 | 405 | 58 | 64 | 58 |  80 |  65 |  80 | 45 | Medium Slow | 87.5 |\n",
       "| 6 | 6 | Charizard  | 리자몽   | 1 | Normal | 2 | Fire  | Flying | 1.7 |  90.5 | 534 | 78 | 84 | 78 | 109 |  85 | 100 | 45 | Medium Slow | 87.5 |\n",
       "\n"
      ],
      "text/plain": [
       "  pokedex_number eng_name   kor_name generation status type_number type_1\n",
       "1 1              Bulbasaur  이상해씨 1          Normal 2           Grass \n",
       "2 2              Ivysaur    이상해풀 1          Normal 2           Grass \n",
       "3 3              Venusaur   이상해꽃 1          Normal 2           Grass \n",
       "4 4              Charmander 파이리   1          Normal 1           Fire  \n",
       "5 5              Charmeleon 리자드   1          Normal 1           Fire  \n",
       "6 6              Charizard  리자몽   1          Normal 2           Fire  \n",
       "  type_2 height_m weight_kg total_points hp attack defense sp_attack sp_defense\n",
       "1 Poison 0.7        6.9     318          45 49     49       65        65       \n",
       "2 Poison 1.0       13.0     405          60 62     63       80        80       \n",
       "3 Poison 2.0      100.0     525          80 82     83      100       100       \n",
       "4        0.6        8.5     309          39 52     43       60        50       \n",
       "5        1.1       19.0     405          58 64     58       80        65       \n",
       "6 Flying 1.7       90.5     534          78 84     78      109        85       \n",
       "  speed catch_rate growth_rate percentage_male\n",
       "1  45   45         Medium Slow 87.5           \n",
       "2  60   45         Medium Slow 87.5           \n",
       "3  80   45         Medium Slow 87.5           \n",
       "4  65   45         Medium Slow 87.5           \n",
       "5  80   45         Medium Slow 87.5           \n",
       "6 100   45         Medium Slow 87.5           "
      ]
     },
     "metadata": {},
     "output_type": "display_data"
    }
   ],
   "source": [
    "pokedex_kor <- merge(x=pokedex, y=pokemon_names[,1:2], by.x='pokedex_number', by.y='번호')\n",
    "pokedex_kor <- pokedex_kor %>% select(pokedex_number, name, 한국어, generation, status, type_number, type_1, type_2, height_m, weight_kg, total_points, hp, attack, defense, sp_attack, sp_defense, speed, catch_rate, growth_rate, percentage_male)\n",
    "names(pokedex_kor)[2:3] <- c('eng_name', 'kor_name')\n",
    "head(pokedex_kor)"
   ]
  },
  {
   "cell_type": "markdown",
   "id": "b0832d4b",
   "metadata": {
    "papermill": {
     "duration": 0.006986,
     "end_time": "2022-11-24T15:49:48.664276",
     "exception": false,
     "start_time": "2022-11-24T15:49:48.657290",
     "status": "completed"
    },
    "tags": []
   },
   "source": [
    "## 분석"
   ]
  },
  {
   "cell_type": "markdown",
   "id": "7d48a626",
   "metadata": {
    "papermill": {
     "duration": 0.006861,
     "end_time": "2022-11-24T15:49:48.677989",
     "exception": false,
     "start_time": "2022-11-24T15:49:48.671128",
     "status": "completed"
    },
    "tags": []
   },
   "source": [
    "## Topic: 세대 별 600족 분포"
   ]
  },
  {
   "cell_type": "markdown",
   "id": "9885c2e7",
   "metadata": {
    "papermill": {
     "duration": 0.015921,
     "end_time": "2022-11-24T15:49:48.700804",
     "exception": false,
     "start_time": "2022-11-24T15:49:48.684883",
     "status": "completed"
    },
    "tags": []
   },
   "source": [
    "### 세대별 600족 분포"
   ]
  },
  {
   "cell_type": "code",
   "execution_count": 7,
   "id": "f9941022",
   "metadata": {
    "execution": {
     "iopub.execute_input": "2022-11-24T15:49:48.719719Z",
     "iopub.status.busy": "2022-11-24T15:49:48.717536Z",
     "iopub.status.idle": "2022-11-24T15:49:48.735770Z",
     "shell.execute_reply": "2022-11-24T15:49:48.733613Z"
    },
    "papermill": {
     "duration": 0.031059,
     "end_time": "2022-11-24T15:49:48.739337",
     "exception": false,
     "start_time": "2022-11-24T15:49:48.708278",
     "status": "completed"
    },
    "tags": []
   },
   "outputs": [],
   "source": [
    "total600 <- pokedex_kor[pokedex_kor$total_points >= 600, ]"
   ]
  },
  {
   "cell_type": "code",
   "execution_count": 8,
   "id": "edbafa34",
   "metadata": {
    "execution": {
     "iopub.execute_input": "2022-11-24T15:49:48.758371Z",
     "iopub.status.busy": "2022-11-24T15:49:48.756808Z",
     "iopub.status.idle": "2022-11-24T15:49:48.952517Z",
     "shell.execute_reply": "2022-11-24T15:49:48.789332Z"
    },
    "papermill": {
     "duration": 0.209317,
     "end_time": "2022-11-24T15:49:48.956132",
     "exception": false,
     "start_time": "2022-11-24T15:49:48.746815",
     "status": "completed"
    },
    "tags": []
   },
   "outputs": [
    {
     "data": {
      "text/html": [
       "<table class=\"dataframe\">\n",
       "<caption>A matrix: 2 × 8 of type int</caption>\n",
       "<tbody>\n",
       "\t<tr><th scope=row>Gen</th><td>1</td><td>2</td><td> 3</td><td> 4</td><td> 5</td><td> 6</td><td> 7</td><td>8</td></tr>\n",
       "\t<tr><th scope=row>Count</th><td>3</td><td>4</td><td>15</td><td>13</td><td>12</td><td>10</td><td>12</td><td>6</td></tr>\n",
       "</tbody>\n",
       "</table>\n"
      ],
      "text/latex": [
       "A matrix: 2 × 8 of type int\n",
       "\\begin{tabular}{r|llllllll}\n",
       "\tGen & 1 & 2 &  3 &  4 &  5 &  6 &  7 & 8\\\\\n",
       "\tCount & 3 & 4 & 15 & 13 & 12 & 10 & 12 & 6\\\\\n",
       "\\end{tabular}\n"
      ],
      "text/markdown": [
       "\n",
       "A matrix: 2 × 8 of type int\n",
       "\n",
       "| Gen | 1 | 2 |  3 |  4 |  5 |  6 |  7 | 8 |\n",
       "| Count | 3 | 4 | 15 | 13 | 12 | 10 | 12 | 6 |\n",
       "\n"
      ],
      "text/plain": [
       "      [,1] [,2] [,3] [,4] [,5] [,6] [,7] [,8]\n",
       "Gen   1    2     3    4    5    6    7   8   \n",
       "Count 3    4    15   13   12   10   12   6   "
      ]
     },
     "metadata": {},
     "output_type": "display_data"
    }
   ],
   "source": [
    "points_count <- t(aggregate(total600$kor_name, list(total600$generation), length))\n",
    "rownames(points_count) <- c(\"Gen\", \"Count\")\n",
    "points_count"
   ]
  },
  {
   "cell_type": "code",
   "execution_count": 9,
   "id": "339c2f21",
   "metadata": {
    "execution": {
     "iopub.execute_input": "2022-11-24T15:49:48.975018Z",
     "iopub.status.busy": "2022-11-24T15:49:48.973170Z",
     "iopub.status.idle": "2022-11-24T15:49:49.015310Z",
     "shell.execute_reply": "2022-11-24T15:49:49.012490Z"
    },
    "papermill": {
     "duration": 0.055315,
     "end_time": "2022-11-24T15:49:49.018931",
     "exception": false,
     "start_time": "2022-11-24T15:49:48.963616",
     "status": "completed"
    },
    "tags": []
   },
   "outputs": [
    {
     "data": {
      "text/html": [
       "<table class=\"dataframe\">\n",
       "<caption>A data.frame: 8 × 2</caption>\n",
       "<thead>\n",
       "\t<tr><th scope=col>Gen</th><th scope=col>Count</th></tr>\n",
       "\t<tr><th scope=col>&lt;int&gt;</th><th scope=col>&lt;list&gt;</th></tr>\n",
       "</thead>\n",
       "<tbody>\n",
       "\t<tr><td>1</td><td>망나뇽, 뮤츠  , 뮤    </td></tr>\n",
       "\t<tr><td>2</td><td>마기라스, 루기아  , 칠색조  , 세레비  </td></tr>\n",
       "\t<tr><td>3</td><td>게을킹    , 보만다    , 메타그로스, 라티아스  , 라티오스  , 가이오가  , 가이오가  , 그란돈    , 그란돈    , 레쿠쟈    , 지라치    , 테오키스  , 테오키스  , 테오키스  , 테오키스  </td></tr>\n",
       "\t<tr><td>4</td><td>한카리아스, 디아루가  , 펄기아    , 히드런    , 레지기가스, 기라티나  , 기라티나  , 크레세리아, 마나피    , 다크라이  , 쉐이미    , 쉐이미    , 아르세우스</td></tr>\n",
       "\t<tr><td>5</td><td>비크티니  , 삼삼드래  , 레시라무  , 제크로무  , 랜드로스  , 랜드로스  , 큐레무    , 큐레무    , 큐레무    , 메로엣타  , 메로엣타  , 게노세크트</td></tr>\n",
       "\t<tr><td>6</td><td>개굴닌자  , 미끄래곤  , 제르네아스, 이벨타르  , 지가르데  , 지가르데  , 디안시    , 후파      , 후파      , 볼케니온  </td></tr>\n",
       "\t<tr><td>7</td><td>약어리    , 짜랑고우거, 솔가레오  , 루나아라  , 네크로즈마, 네크로즈마, 네크로즈마, 네크로즈마, 마기아나  , 마샤도    , 제라오라  , 멜메탈    </td></tr>\n",
       "\t<tr><td>8</td><td>드래펄트  , 자시안    , 자시안    , 자마젠타  , 자마젠타  , 무한다이노</td></tr>\n",
       "</tbody>\n",
       "</table>\n"
      ],
      "text/latex": [
       "A data.frame: 8 × 2\n",
       "\\begin{tabular}{ll}\n",
       " Gen & Count\\\\\n",
       " <int> & <list>\\\\\n",
       "\\hline\n",
       "\t 1 & 망나뇽, 뮤츠  , 뮤    \\\\\n",
       "\t 2 & 마기라스, 루기아  , 칠색조  , 세레비  \\\\\n",
       "\t 3 & 게을킹    , 보만다    , 메타그로스, 라티아스  , 라티오스  , 가이오가  , 가이오가  , 그란돈    , 그란돈    , 레쿠쟈    , 지라치    , 테오키스  , 테오키스  , 테오키스  , 테오키스  \\\\\n",
       "\t 4 & 한카리아스, 디아루가  , 펄기아    , 히드런    , 레지기가스, 기라티나  , 기라티나  , 크레세리아, 마나피    , 다크라이  , 쉐이미    , 쉐이미    , 아르세우스\\\\\n",
       "\t 5 & 비크티니  , 삼삼드래  , 레시라무  , 제크로무  , 랜드로스  , 랜드로스  , 큐레무    , 큐레무    , 큐레무    , 메로엣타  , 메로엣타  , 게노세크트\\\\\n",
       "\t 6 & 개굴닌자  , 미끄래곤  , 제르네아스, 이벨타르  , 지가르데  , 지가르데  , 디안시    , 후파      , 후파      , 볼케니온  \\\\\n",
       "\t 7 & 약어리    , 짜랑고우거, 솔가레오  , 루나아라  , 네크로즈마, 네크로즈마, 네크로즈마, 네크로즈마, 마기아나  , 마샤도    , 제라오라  , 멜메탈    \\\\\n",
       "\t 8 & 드래펄트  , 자시안    , 자시안    , 자마젠타  , 자마젠타  , 무한다이노\\\\\n",
       "\\end{tabular}\n"
      ],
      "text/markdown": [
       "\n",
       "A data.frame: 8 × 2\n",
       "\n",
       "| Gen &lt;int&gt; | Count &lt;list&gt; |\n",
       "|---|---|\n",
       "| 1 | 망나뇽, 뮤츠  , 뮤     |\n",
       "| 2 | 마기라스, 루기아  , 칠색조  , 세레비   |\n",
       "| 3 | 게을킹    , 보만다    , 메타그로스, 라티아스  , 라티오스  , 가이오가  , 가이오가  , 그란돈    , 그란돈    , 레쿠쟈    , 지라치    , 테오키스  , 테오키스  , 테오키스  , 테오키스   |\n",
       "| 4 | 한카리아스, 디아루가  , 펄기아    , 히드런    , 레지기가스, 기라티나  , 기라티나  , 크레세리아, 마나피    , 다크라이  , 쉐이미    , 쉐이미    , 아르세우스 |\n",
       "| 5 | 비크티니  , 삼삼드래  , 레시라무  , 제크로무  , 랜드로스  , 랜드로스  , 큐레무    , 큐레무    , 큐레무    , 메로엣타  , 메로엣타  , 게노세크트 |\n",
       "| 6 | 개굴닌자  , 미끄래곤  , 제르네아스, 이벨타르  , 지가르데  , 지가르데  , 디안시    , 후파      , 후파      , 볼케니온   |\n",
       "| 7 | 약어리    , 짜랑고우거, 솔가레오  , 루나아라  , 네크로즈마, 네크로즈마, 네크로즈마, 네크로즈마, 마기아나  , 마샤도    , 제라오라  , 멜메탈     |\n",
       "| 8 | 드래펄트  , 자시안    , 자시안    , 자마젠타  , 자마젠타  , 무한다이노 |\n",
       "\n"
      ],
      "text/plain": [
       "  Gen\n",
       "1 1  \n",
       "2 2  \n",
       "3 3  \n",
       "4 4  \n",
       "5 5  \n",
       "6 6  \n",
       "7 7  \n",
       "8 8  \n",
       "  Count                                                                                                                                                                             \n",
       "1 망나뇽, 뮤츠  , 뮤                                                                                                                                                                \n",
       "2 마기라스, 루기아  , 칠색조  , 세레비                                                                                                                                              \n",
       "3 게을킹    , 보만다    , 메타그로스, 라티아스  , 라티오스  , 가이오가  , 가이오가  , 그란돈    , 그란돈    , 레쿠쟈    , 지라치    , 테오키스  , 테오키스  , 테오키스  , 테오키스  \n",
       "4 한카리아스, 디아루가  , 펄기아    , 히드런    , 레지기가스, 기라티나  , 기라티나  , 크레세리아, 마나피    , 다크라이  , 쉐이미    , 쉐이미    , 아르세우스                        \n",
       "5 비크티니  , 삼삼드래  , 레시라무  , 제크로무  , 랜드로스  , 랜드로스  , 큐레무    , 큐레무    , 큐레무    , 메로엣타  , 메로엣타  , 게노세크트                                    \n",
       "6 개굴닌자  , 미끄래곤  , 제르네아스, 이벨타르  , 지가르데  , 지가르데  , 디안시    , 후파      , 후파      , 볼케니온                                                              \n",
       "7 약어리    , 짜랑고우거, 솔가레오  , 루나아라  , 네크로즈마, 네크로즈마, 네크로즈마, 네크로즈마, 마기아나  , 마샤도    , 제라오라  , 멜메탈                                        \n",
       "8 드래펄트  , 자시안    , 자시안    , 자마젠타  , 자마젠타  , 무한다이노                                                                                                            "
      ]
     },
     "metadata": {},
     "output_type": "display_data"
    }
   ],
   "source": [
    "points_names <- aggregate(total600$kor_name, list(total600$generation), paste)\n",
    "colnames(points_names) <- c(\"Gen\", \"Count\")\n",
    "points_names"
   ]
  },
  {
   "cell_type": "markdown",
   "id": "ba720a42",
   "metadata": {
    "papermill": {
     "duration": 0.007899,
     "end_time": "2022-11-24T15:49:49.034377",
     "exception": false,
     "start_time": "2022-11-24T15:49:49.026478",
     "status": "completed"
    },
    "tags": []
   },
   "source": [
    "### 비전설, 비환상종"
   ]
  },
  {
   "cell_type": "code",
   "execution_count": 10,
   "id": "d9330d6b",
   "metadata": {
    "execution": {
     "iopub.execute_input": "2022-11-24T15:49:49.054603Z",
     "iopub.status.busy": "2022-11-24T15:49:49.052761Z",
     "iopub.status.idle": "2022-11-24T15:49:49.070606Z",
     "shell.execute_reply": "2022-11-24T15:49:49.068542Z"
    },
    "papermill": {
     "duration": 0.031352,
     "end_time": "2022-11-24T15:49:49.074181",
     "exception": false,
     "start_time": "2022-11-24T15:49:49.042829",
     "status": "completed"
    },
    "tags": []
   },
   "outputs": [],
   "source": [
    "total600_normal <- total600[total600$status == 'Normal', ]"
   ]
  },
  {
   "cell_type": "code",
   "execution_count": 11,
   "id": "71b8b6ff",
   "metadata": {
    "execution": {
     "iopub.execute_input": "2022-11-24T15:49:49.093415Z",
     "iopub.status.busy": "2022-11-24T15:49:49.091586Z",
     "iopub.status.idle": "2022-11-24T15:49:49.125348Z",
     "shell.execute_reply": "2022-11-24T15:49:49.122895Z"
    },
    "papermill": {
     "duration": 0.046957,
     "end_time": "2022-11-24T15:49:49.128593",
     "exception": false,
     "start_time": "2022-11-24T15:49:49.081636",
     "status": "completed"
    },
    "tags": []
   },
   "outputs": [
    {
     "data": {
      "text/html": [
       "<table class=\"dataframe\">\n",
       "<caption>A matrix: 2 × 8 of type int</caption>\n",
       "<tbody>\n",
       "\t<tr><th scope=row>Gen</th><td>1</td><td>2</td><td>3</td><td>4</td><td>5</td><td>6</td><td>7</td><td>8</td></tr>\n",
       "\t<tr><th scope=row>Count</th><td>1</td><td>1</td><td>3</td><td>1</td><td>1</td><td>2</td><td>2</td><td>1</td></tr>\n",
       "</tbody>\n",
       "</table>\n"
      ],
      "text/latex": [
       "A matrix: 2 × 8 of type int\n",
       "\\begin{tabular}{r|llllllll}\n",
       "\tGen & 1 & 2 & 3 & 4 & 5 & 6 & 7 & 8\\\\\n",
       "\tCount & 1 & 1 & 3 & 1 & 1 & 2 & 2 & 1\\\\\n",
       "\\end{tabular}\n"
      ],
      "text/markdown": [
       "\n",
       "A matrix: 2 × 8 of type int\n",
       "\n",
       "| Gen | 1 | 2 | 3 | 4 | 5 | 6 | 7 | 8 |\n",
       "| Count | 1 | 1 | 3 | 1 | 1 | 2 | 2 | 1 |\n",
       "\n"
      ],
      "text/plain": [
       "      [,1] [,2] [,3] [,4] [,5] [,6] [,7] [,8]\n",
       "Gen   1    2    3    4    5    6    7    8   \n",
       "Count 1    1    3    1    1    2    2    1   "
      ]
     },
     "metadata": {},
     "output_type": "display_data"
    }
   ],
   "source": [
    "points_normal_count <- t(aggregate(total600_normal$kor_name, list(total600_normal$generation), length))\n",
    "rownames(points_normal_count) <- c(\"Gen\", \"Count\")\n",
    "points_normal_count"
   ]
  },
  {
   "cell_type": "code",
   "execution_count": 12,
   "id": "b48f8662",
   "metadata": {
    "execution": {
     "iopub.execute_input": "2022-11-24T15:49:49.148712Z",
     "iopub.status.busy": "2022-11-24T15:49:49.146817Z",
     "iopub.status.idle": "2022-11-24T15:49:49.192677Z",
     "shell.execute_reply": "2022-11-24T15:49:49.189682Z"
    },
    "papermill": {
     "duration": 0.060118,
     "end_time": "2022-11-24T15:49:49.196729",
     "exception": false,
     "start_time": "2022-11-24T15:49:49.136611",
     "status": "completed"
    },
    "tags": []
   },
   "outputs": [
    {
     "data": {
      "text/html": [
       "<table class=\"dataframe\">\n",
       "<caption>A data.frame: 8 × 2</caption>\n",
       "<thead>\n",
       "\t<tr><th scope=col>Gen</th><th scope=col>kor_names</th></tr>\n",
       "\t<tr><th scope=col>&lt;int&gt;</th><th scope=col>&lt;list&gt;</th></tr>\n",
       "</thead>\n",
       "<tbody>\n",
       "\t<tr><td>1</td><td>망나뇽</td></tr>\n",
       "\t<tr><td>2</td><td>마기라스</td></tr>\n",
       "\t<tr><td>3</td><td>게을킹    , 보만다    , 메타그로스</td></tr>\n",
       "\t<tr><td>4</td><td>한카리아스</td></tr>\n",
       "\t<tr><td>5</td><td>삼삼드래</td></tr>\n",
       "\t<tr><td>6</td><td>개굴닌자, 미끄래곤</td></tr>\n",
       "\t<tr><td>7</td><td>약어리    , 짜랑고우거</td></tr>\n",
       "\t<tr><td>8</td><td>드래펄트</td></tr>\n",
       "</tbody>\n",
       "</table>\n"
      ],
      "text/latex": [
       "A data.frame: 8 × 2\n",
       "\\begin{tabular}{ll}\n",
       " Gen & kor\\_names\\\\\n",
       " <int> & <list>\\\\\n",
       "\\hline\n",
       "\t 1 & 망나뇽\\\\\n",
       "\t 2 & 마기라스\\\\\n",
       "\t 3 & 게을킹    , 보만다    , 메타그로스\\\\\n",
       "\t 4 & 한카리아스\\\\\n",
       "\t 5 & 삼삼드래\\\\\n",
       "\t 6 & 개굴닌자, 미끄래곤\\\\\n",
       "\t 7 & 약어리    , 짜랑고우거\\\\\n",
       "\t 8 & 드래펄트\\\\\n",
       "\\end{tabular}\n"
      ],
      "text/markdown": [
       "\n",
       "A data.frame: 8 × 2\n",
       "\n",
       "| Gen &lt;int&gt; | kor_names &lt;list&gt; |\n",
       "|---|---|\n",
       "| 1 | 망나뇽 |\n",
       "| 2 | 마기라스 |\n",
       "| 3 | 게을킹    , 보만다    , 메타그로스 |\n",
       "| 4 | 한카리아스 |\n",
       "| 5 | 삼삼드래 |\n",
       "| 6 | 개굴닌자, 미끄래곤 |\n",
       "| 7 | 약어리    , 짜랑고우거 |\n",
       "| 8 | 드래펄트 |\n",
       "\n"
      ],
      "text/plain": [
       "  Gen kor_names                         \n",
       "1 1   망나뇽                            \n",
       "2 2   마기라스                          \n",
       "3 3   게을킹    , 보만다    , 메타그로스\n",
       "4 4   한카리아스                        \n",
       "5 5   삼삼드래                          \n",
       "6 6   개굴닌자, 미끄래곤                \n",
       "7 7   약어리    , 짜랑고우거            \n",
       "8 8   드래펄트                          "
      ]
     },
     "metadata": {},
     "output_type": "display_data"
    }
   ],
   "source": [
    "points_normal_names <- aggregate(total600_normal$kor_name, list(total600_normal$generation), paste)\n",
    "colnames(points_normal_names) <- c(\"Gen\", \"kor_names\")\n",
    "points_normal_names"
   ]
  },
  {
   "cell_type": "markdown",
   "id": "b37f2f69",
   "metadata": {
    "papermill": {
     "duration": 0.008042,
     "end_time": "2022-11-24T15:49:49.212671",
     "exception": false,
     "start_time": "2022-11-24T15:49:49.204629",
     "status": "completed"
    },
    "tags": []
   },
   "source": []
  },
  {
   "cell_type": "markdown",
   "id": "71409881",
   "metadata": {
    "papermill": {
     "duration": 0.007902,
     "end_time": "2022-11-24T15:49:49.228444",
     "exception": false,
     "start_time": "2022-11-24T15:49:49.220542",
     "status": "completed"
    },
    "tags": []
   },
   "source": [
    "### Topic: 세대별 종족치 분포"
   ]
  },
  {
   "cell_type": "code",
   "execution_count": 13,
   "id": "db9cfe47",
   "metadata": {
    "execution": {
     "iopub.execute_input": "2022-11-24T15:49:49.249911Z",
     "iopub.status.busy": "2022-11-24T15:49:49.247665Z",
     "iopub.status.idle": "2022-11-24T15:49:49.309130Z",
     "shell.execute_reply": "2022-11-24T15:49:49.306246Z"
    },
    "papermill": {
     "duration": 0.077799,
     "end_time": "2022-11-24T15:49:49.314017",
     "exception": false,
     "start_time": "2022-11-24T15:49:49.236218",
     "status": "completed"
    },
    "tags": []
   },
   "outputs": [
    {
     "data": {
      "text/html": [
       "<table class=\"dataframe\">\n",
       "<caption>A data.frame: 1 × 8</caption>\n",
       "<thead>\n",
       "\t<tr><th></th><th scope=col>Gen1</th><th scope=col>Gen2</th><th scope=col>Gen3</th><th scope=col>Gen4</th><th scope=col>Gen5</th><th scope=col>Gen6</th><th scope=col>Gen7</th><th scope=col>Gen8</th></tr>\n",
       "\t<tr><th></th><th scope=col>&lt;dbl&gt;</th><th scope=col>&lt;dbl&gt;</th><th scope=col>&lt;dbl&gt;</th><th scope=col>&lt;dbl&gt;</th><th scope=col>&lt;dbl&gt;</th><th scope=col>&lt;dbl&gt;</th><th scope=col>&lt;dbl&gt;</th><th scope=col>&lt;dbl&gt;</th></tr>\n",
       "</thead>\n",
       "<tbody>\n",
       "\t<tr><th scope=row>Mean</th><td>406.9831</td><td>406.03</td><td>412.1586</td><td>451.931</td><td>434.5118</td><td>439.4881</td><td>459.2323</td><td>430.4368</td></tr>\n",
       "</tbody>\n",
       "</table>\n"
      ],
      "text/latex": [
       "A data.frame: 1 × 8\n",
       "\\begin{tabular}{r|llllllll}\n",
       "  & Gen1 & Gen2 & Gen3 & Gen4 & Gen5 & Gen6 & Gen7 & Gen8\\\\\n",
       "  & <dbl> & <dbl> & <dbl> & <dbl> & <dbl> & <dbl> & <dbl> & <dbl>\\\\\n",
       "\\hline\n",
       "\tMean & 406.9831 & 406.03 & 412.1586 & 451.931 & 434.5118 & 439.4881 & 459.2323 & 430.4368\\\\\n",
       "\\end{tabular}\n"
      ],
      "text/markdown": [
       "\n",
       "A data.frame: 1 × 8\n",
       "\n",
       "| <!--/--> | Gen1 &lt;dbl&gt; | Gen2 &lt;dbl&gt; | Gen3 &lt;dbl&gt; | Gen4 &lt;dbl&gt; | Gen5 &lt;dbl&gt; | Gen6 &lt;dbl&gt; | Gen7 &lt;dbl&gt; | Gen8 &lt;dbl&gt; |\n",
       "|---|---|---|---|---|---|---|---|---|\n",
       "| Mean | 406.9831 | 406.03 | 412.1586 | 451.931 | 434.5118 | 439.4881 | 459.2323 | 430.4368 |\n",
       "\n"
      ],
      "text/plain": [
       "     Gen1     Gen2   Gen3     Gen4    Gen5     Gen6     Gen7     Gen8    \n",
       "Mean 406.9831 406.03 412.1586 451.931 434.5118 439.4881 459.2323 430.4368"
      ]
     },
     "metadata": {},
     "output_type": "display_data"
    }
   ],
   "source": [
    "total_points_mean <- data.frame()\n",
    "for (i in 1:8) total_points_mean[1, i] <- mean(pokedex_kor[pokedex_kor$generation==i, ]$total_points)\n",
    "colnames(total_points_mean) <- paste(\"Gen\", 1:8, sep=\"\")\n",
    "rownames(total_points_mean) <- \"Mean\"\n",
    "total_points_mean"
   ]
  },
  {
   "cell_type": "code",
   "execution_count": 14,
   "id": "a186b3b7",
   "metadata": {
    "execution": {
     "iopub.execute_input": "2022-11-24T15:49:49.336432Z",
     "iopub.status.busy": "2022-11-24T15:49:49.334055Z",
     "iopub.status.idle": "2022-11-24T15:49:49.648346Z",
     "shell.execute_reply": "2022-11-24T15:49:49.644701Z"
    },
    "papermill": {
     "duration": 0.329087,
     "end_time": "2022-11-24T15:49:49.651947",
     "exception": false,
     "start_time": "2022-11-24T15:49:49.322860",
     "status": "completed"
    },
    "tags": []
   },
   "outputs": [
    {
     "data": {
      "image/png": "[encoded data removed]"
     },
     "metadata": {
      "image/png": {
       "height": 420,
       "width": 420
      }
     },
     "output_type": "display_data"
    }
   ],
   "source": [
    "barplot(unlist(total_points_mean[1,]), xlab='Generation', ylab='mean total points')"
   ]
  },
  {
   "cell_type": "code",
   "execution_count": 15,
   "id": "43a6327b",
   "metadata": {
    "execution": {
     "iopub.execute_input": "2022-11-24T15:49:49.675478Z",
     "iopub.status.busy": "2022-11-24T15:49:49.672867Z",
     "iopub.status.idle": "2022-11-24T15:49:49.756857Z",
     "shell.execute_reply": "2022-11-24T15:49:49.754885Z"
    },
    "papermill": {
     "duration": 0.099335,
     "end_time": "2022-11-24T15:49:49.760422",
     "exception": false,
     "start_time": "2022-11-24T15:49:49.661087",
     "status": "completed"
    },
    "tags": []
   },
   "outputs": [],
   "source": [
    "points_groups <- list()\n",
    "for (i in 1:8){\n",
    "    total_points_geni <- pokedex_kor[pokedex_kor$generation==i,]$total_points\n",
    "    cut_geni <- cut(total_points_geni, 1:8*100-1)\n",
    "    points_groups[[i]] <- aggregate(total_points_geni, list(cut_geni), length)\n",
    "    names(points_groups[[i]])[2] <- paste(\"Gen\",as.character(i),sep=\"\")\n",
    "    if (i>1) points_table <- merge(points_table, points_groups[[i]], by=\"Group.1\", all=T)\n",
    "    else points_table <- points_groups[[i]]\n",
    "}\n",
    "names(points_table)[1] <- \"Group\""
   ]
  },
  {
   "cell_type": "code",
   "execution_count": 16,
   "id": "80569c8c",
   "metadata": {
    "execution": {
     "iopub.execute_input": "2022-11-24T15:49:49.781737Z",
     "iopub.status.busy": "2022-11-24T15:49:49.779975Z",
     "iopub.status.idle": "2022-11-24T15:49:49.799549Z",
     "shell.execute_reply": "2022-11-24T15:49:49.797582Z"
    },
    "papermill": {
     "duration": 0.034136,
     "end_time": "2022-11-24T15:49:49.803084",
     "exception": false,
     "start_time": "2022-11-24T15:49:49.768948",
     "status": "completed"
    },
    "tags": []
   },
   "outputs": [],
   "source": [
    "points_table[is.na(points_table)] <- 0"
   ]
  },
  {
   "cell_type": "code",
   "execution_count": 17,
   "id": "5741c610",
   "metadata": {
    "execution": {
     "iopub.execute_input": "2022-11-24T15:49:49.824776Z",
     "iopub.status.busy": "2022-11-24T15:49:49.822942Z",
     "iopub.status.idle": "2022-11-24T15:49:49.859030Z",
     "shell.execute_reply": "2022-11-24T15:49:49.856471Z"
    },
    "papermill": {
     "duration": 0.050264,
     "end_time": "2022-11-24T15:49:49.862202",
     "exception": false,
     "start_time": "2022-11-24T15:49:49.811938",
     "status": "completed"
    },
    "tags": []
   },
   "outputs": [
    {
     "data": {
      "text/html": [
       "<table class=\"dataframe\">\n",
       "<caption>A data.frame: 7 × 9</caption>\n",
       "<thead>\n",
       "\t<tr><th></th><th scope=col>Group</th><th scope=col>Gen1</th><th scope=col>Gen2</th><th scope=col>Gen3</th><th scope=col>Gen4</th><th scope=col>Gen5</th><th scope=col>Gen6</th><th scope=col>Gen7</th><th scope=col>Gen8</th></tr>\n",
       "\t<tr><th></th><th scope=col>&lt;fct&gt;</th><th scope=col>&lt;dbl&gt;</th><th scope=col>&lt;dbl&gt;</th><th scope=col>&lt;int&gt;</th><th scope=col>&lt;int&gt;</th><th scope=col>&lt;dbl&gt;</th><th scope=col>&lt;dbl&gt;</th><th scope=col>&lt;int&gt;</th><th scope=col>&lt;int&gt;</th></tr>\n",
       "</thead>\n",
       "<tbody>\n",
       "\t<tr><th scope=row>1</th><td>(99,199] </td><td> 2</td><td> 1</td><td> 3</td><td> 1</td><td> 0</td><td> 0</td><td> 1</td><td> 2</td></tr>\n",
       "\t<tr><th scope=row>2</th><td>(199,299]</td><td>22</td><td>17</td><td>27</td><td>11</td><td>17</td><td> 7</td><td>11</td><td>15</td></tr>\n",
       "\t<tr><th scope=row>3</th><td>(299,399]</td><td>55</td><td>21</td><td>29</td><td>24</td><td>50</td><td>25</td><td>14</td><td>12</td></tr>\n",
       "\t<tr><th scope=row>4</th><td>(399,499]</td><td>61</td><td>37</td><td>58</td><td>32</td><td>57</td><td>25</td><td>35</td><td>30</td></tr>\n",
       "\t<tr><th scope=row>5</th><td>(499,599]</td><td>34</td><td>20</td><td>13</td><td>35</td><td>34</td><td>17</td><td>26</td><td>22</td></tr>\n",
       "\t<tr><th scope=row>6</th><td>(599,699]</td><td> 3</td><td> 4</td><td>13</td><td>12</td><td>10</td><td> 9</td><td>11</td><td> 4</td></tr>\n",
       "\t<tr><th scope=row>7</th><td>(699,799]</td><td> 0</td><td> 0</td><td> 2</td><td> 1</td><td> 2</td><td> 1</td><td> 1</td><td> 2</td></tr>\n",
       "</tbody>\n",
       "</table>\n"
      ],
      "text/latex": [
       "A data.frame: 7 × 9\n",
       "\\begin{tabular}{r|lllllllll}\n",
       "  & Group & Gen1 & Gen2 & Gen3 & Gen4 & Gen5 & Gen6 & Gen7 & Gen8\\\\\n",
       "  & <fct> & <dbl> & <dbl> & <int> & <int> & <dbl> & <dbl> & <int> & <int>\\\\\n",
       "\\hline\n",
       "\t1 & (99,199{]}  &  2 &  1 &  3 &  1 &  0 &  0 &  1 &  2\\\\\n",
       "\t2 & (199,299{]} & 22 & 17 & 27 & 11 & 17 &  7 & 11 & 15\\\\\n",
       "\t3 & (299,399{]} & 55 & 21 & 29 & 24 & 50 & 25 & 14 & 12\\\\\n",
       "\t4 & (399,499{]} & 61 & 37 & 58 & 32 & 57 & 25 & 35 & 30\\\\\n",
       "\t5 & (499,599{]} & 34 & 20 & 13 & 35 & 34 & 17 & 26 & 22\\\\\n",
       "\t6 & (599,699{]} &  3 &  4 & 13 & 12 & 10 &  9 & 11 &  4\\\\\n",
       "\t7 & (699,799{]} &  0 &  0 &  2 &  1 &  2 &  1 &  1 &  2\\\\\n",
       "\\end{tabular}\n"
      ],
      "text/markdown": [
       "\n",
       "A data.frame: 7 × 9\n",
       "\n",
       "| <!--/--> | Group &lt;fct&gt; | Gen1 &lt;dbl&gt; | Gen2 &lt;dbl&gt; | Gen3 &lt;int&gt; | Gen4 &lt;int&gt; | Gen5 &lt;dbl&gt; | Gen6 &lt;dbl&gt; | Gen7 &lt;int&gt; | Gen8 &lt;int&gt; |\n",
       "|---|---|---|---|---|---|---|---|---|---|\n",
       "| 1 | (99,199]  |  2 |  1 |  3 |  1 |  0 |  0 |  1 |  2 |\n",
       "| 2 | (199,299] | 22 | 17 | 27 | 11 | 17 |  7 | 11 | 15 |\n",
       "| 3 | (299,399] | 55 | 21 | 29 | 24 | 50 | 25 | 14 | 12 |\n",
       "| 4 | (399,499] | 61 | 37 | 58 | 32 | 57 | 25 | 35 | 30 |\n",
       "| 5 | (499,599] | 34 | 20 | 13 | 35 | 34 | 17 | 26 | 22 |\n",
       "| 6 | (599,699] |  3 |  4 | 13 | 12 | 10 |  9 | 11 |  4 |\n",
       "| 7 | (699,799] |  0 |  0 |  2 |  1 |  2 |  1 |  1 |  2 |\n",
       "\n"
      ],
      "text/plain": [
       "  Group     Gen1 Gen2 Gen3 Gen4 Gen5 Gen6 Gen7 Gen8\n",
       "1 (99,199]   2    1    3    1    0    0    1    2  \n",
       "2 (199,299] 22   17   27   11   17    7   11   15  \n",
       "3 (299,399] 55   21   29   24   50   25   14   12  \n",
       "4 (399,499] 61   37   58   32   57   25   35   30  \n",
       "5 (499,599] 34   20   13   35   34   17   26   22  \n",
       "6 (599,699]  3    4   13   12   10    9   11    4  \n",
       "7 (699,799]  0    0    2    1    2    1    1    2  "
      ]
     },
     "metadata": {},
     "output_type": "display_data"
    }
   ],
   "source": [
    "points_table <- points_table[order(points_table$Group), ]\n",
    "rownames(points_table) <- 1:7\n",
    "points_table"
   ]
  }
 ],
 "metadata": {
  "kernelspec": {
   "display_name": "R",
   "language": "R",
   "name": "ir"
  },
  "language_info": {
   "codemirror_mode": "r",
   "file_extension": ".r",
   "mimetype": "text/x-r-source",
   "name": "R",
   "pygments_lexer": "r",
   "version": "4.0.5"
  },
  "papermill": {
   "default_parameters": {},
   "duration": 6.521554,
   "end_time": "2022-11-24T15:49:49.995152",
   "environment_variables": {},
   "exception": null,
   "input_path": "__notebook__.ipynb",
   "output_path": "__notebook__.ipynb",
   "parameters": {},
   "start_time": "2022-11-24T15:49:43.473598",
   "version": "2.4.0"
  }
 },
 "nbformat": 4,
 "nbformat_minor": 5
}
